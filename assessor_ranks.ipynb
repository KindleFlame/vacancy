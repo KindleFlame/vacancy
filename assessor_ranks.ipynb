{
 "cells": [
  {
   "cell_type": "markdown",
   "metadata": {},
   "source": [
    "## Описание\n",
    "\n",
    "Данный ноутбук является откликом на [вакансию яндекса](https://yandex.ru/jobs/vacancies/proj_man/data_techman/)\n",
    "\n",
    "\n",
    "\n",
    "### Условия задания 2\n",
    "Формат файла: login tuid docid jud cjud.\n",
    "\n",
    "Пояснение к формату: login — логин асессора; uid — id асессора (user id); docid — id оцениваемого документа (document id); jud — оценка асессора (judgement); cjud — правильная оценка (correct judgement); разделитель — табуляция \\t.\n",
    "\n",
    "Оценки могут принимать значение [0, 1], т.е. задание, которое сделали асессоры, имеет бинарную шкалу.\n",
    "\n",
    "Используя данные об оценках, установите, какие асессоры хуже всего справились с заданием. На какие показатели вы ориентировались и какие метрики вы использовали для ответа на этот вопрос? Можно ли предложить какие-то новые метрики для подсчета качества асессоров с учетом природы оценок у этого бинарного задания? "
   ]
  },
  {
   "cell_type": "markdown",
   "metadata": {},
   "source": [
    "## Краткие итоги (ответ)\n",
    "\n",
    "### Какие факты известны?\n",
    "\n",
    "1. Ответы распределены неравномерно, ставя везде 0 - легко угадать правильный ответ с вероятностью 88% - причем более половины ассесоров отвечают хуже\n",
    "2. Самое сложное для ассесоров - отвечать на вопросы с положительным ответом - здесь им удается только в половине случаев ответить правильно.\n",
    "3. Таким образом для оценки ассесора приходится смотреть на верность ответа по взвешенной ошибке среди положительных и отрицательных ответов. \n",
    "\n",
    "***Средняя ошибка по всем вопросам конечно тоже подходит, но не раскрывает особенности. Так, почти все лидеры в этой номинации показывают плохой результат с положительными ответами - - 40% из них ошибочны***\n",
    "\n",
    "### Предлагаемый ответ\n",
    "\n",
    "#### Какие асессоры хуже всего справились с заданием?\n",
    "Все, у кого процент ошибочных ответов более 14%. \n",
    "*Почему не 12%?* \n",
    "Некоторые выполнили бы задание лучше, если бы просто проставили везде ноль. Но человек - не машина, и вопрос в том, сколько лучших нам нужно. Все, у кого ошибка меньше 14% - лучше половины работавших ассесоров - а это уже высокая планка.\n",
    "\n",
    "#### На какие показатели вы ориентировались и какие метрики вы использовали для ответа на этот вопрос? \n",
    "Средняя ошибка по всем вопросам среди всех ассесоров, а также квантили по ней. Квантили по ошибкам среди положительных и отрицательных ответов.\n",
    "\n",
    "#### Можно ли предложить какие-то новые метрики для подсчета качества асессоров с учетом природы оценок у этого бинарного задания? \n",
    "Вообще говоря не так уж и много параметров, чтобы было где разгуляться. Еще можно использовать пересечение по вопросам - выкинуть из расчета документы, где все ассесоры ошиблись как слишком сложные, и выкинуть слишком простые документы, где не ошибся никто. (см. Гипотеза 3)\n",
    "\n"
   ]
  },
  {
   "cell_type": "markdown",
   "metadata": {},
   "source": [
    "## Открытые вопросы\n",
    "1. Есть ли среди ассесоров те, что хорошо отвечают положительные ответы? Т.е. ошибаются там меньше, чем в отрицательных ответах? - Да, у них возможно общая ошибка больше, но возможно что только на положительных ответах они бы показали хороший результат.\n"
   ]
  },
  {
   "cell_type": "markdown",
   "metadata": {},
   "source": [
    "## Решение, код и комментарии"
   ]
  },
  {
   "cell_type": "markdown",
   "metadata": {},
   "source": [
    "### Введение"
   ]
  },
  {
   "cell_type": "markdown",
   "metadata": {},
   "source": [
    "В начале сделаем обзор данных, в каком они состоянии. Нет ли пропусков, требуется ли очистить данные от мусора. "
   ]
  },
  {
   "cell_type": "code",
   "execution_count": 6,
   "metadata": {},
   "outputs": [
    {
     "data": {
      "text/html": [
       "<div>\n",
       "<style scoped>\n",
       "    .dataframe tbody tr th:only-of-type {\n",
       "        vertical-align: middle;\n",
       "    }\n",
       "\n",
       "    .dataframe tbody tr th {\n",
       "        vertical-align: top;\n",
       "    }\n",
       "\n",
       "    .dataframe thead th {\n",
       "        text-align: right;\n",
       "    }\n",
       "</style>\n",
       "<table border=\"1\" class=\"dataframe\">\n",
       "  <thead>\n",
       "    <tr style=\"text-align: right;\">\n",
       "      <th></th>\n",
       "      <th>login</th>\n",
       "      <th>uid</th>\n",
       "      <th>docid</th>\n",
       "      <th>jud</th>\n",
       "      <th>cjud</th>\n",
       "    </tr>\n",
       "  </thead>\n",
       "  <tbody>\n",
       "    <tr>\n",
       "      <th>0</th>\n",
       "      <td>assessor158</td>\n",
       "      <td>158</td>\n",
       "      <td>0</td>\n",
       "      <td>0</td>\n",
       "      <td>0</td>\n",
       "    </tr>\n",
       "    <tr>\n",
       "      <th>1</th>\n",
       "      <td>assessor238</td>\n",
       "      <td>238</td>\n",
       "      <td>0</td>\n",
       "      <td>0</td>\n",
       "      <td>0</td>\n",
       "    </tr>\n",
       "    <tr>\n",
       "      <th>2</th>\n",
       "      <td>assessor488</td>\n",
       "      <td>488</td>\n",
       "      <td>0</td>\n",
       "      <td>0</td>\n",
       "      <td>0</td>\n",
       "    </tr>\n",
       "    <tr>\n",
       "      <th>3</th>\n",
       "      <td>assessor136</td>\n",
       "      <td>136</td>\n",
       "      <td>0</td>\n",
       "      <td>0</td>\n",
       "      <td>0</td>\n",
       "    </tr>\n",
       "    <tr>\n",
       "      <th>4</th>\n",
       "      <td>assessor300</td>\n",
       "      <td>300</td>\n",
       "      <td>0</td>\n",
       "      <td>0</td>\n",
       "      <td>0</td>\n",
       "    </tr>\n",
       "  </tbody>\n",
       "</table>\n",
       "</div>"
      ],
      "text/plain": [
       "         login  uid  docid  jud  cjud\n",
       "0  assessor158  158      0    0     0\n",
       "1  assessor238  238      0    0     0\n",
       "2  assessor488  488      0    0     0\n",
       "3  assessor136  136      0    0     0\n",
       "4  assessor300  300      0    0     0"
      ]
     },
     "execution_count": 6,
     "metadata": {},
     "output_type": "execute_result"
    }
   ],
   "source": [
    "import pandas as pd\n",
    "df = pd.read_csv('data_task3.csv', sep='\\t')\n",
    "df.head()"
   ]
  },
  {
   "cell_type": "code",
   "execution_count": 4,
   "metadata": {
    "scrolled": true
   },
   "outputs": [
    {
     "name": "stdout",
     "output_type": "stream",
     "text": [
      "<class 'pandas.core.frame.DataFrame'>\n",
      "RangeIndex: 250000 entries, 0 to 249999\n",
      "Data columns (total 5 columns):\n",
      " #   Column  Non-Null Count   Dtype \n",
      "---  ------  --------------   ----- \n",
      " 0   login   250000 non-null  object\n",
      " 1   uid     250000 non-null  int64 \n",
      " 2   docid   250000 non-null  int64 \n",
      " 3   jud     250000 non-null  int64 \n",
      " 4   cjud    250000 non-null  int64 \n",
      "dtypes: int64(4), object(1)\n",
      "memory usage: 9.5+ MB\n"
     ]
    }
   ],
   "source": [
    "df.info();"
   ]
  },
  {
   "cell_type": "code",
   "execution_count": 12,
   "metadata": {
    "scrolled": false
   },
   "outputs": [
    {
     "data": {
      "text/html": [
       "<div>\n",
       "<style scoped>\n",
       "    .dataframe tbody tr th:only-of-type {\n",
       "        vertical-align: middle;\n",
       "    }\n",
       "\n",
       "    .dataframe tbody tr th {\n",
       "        vertical-align: top;\n",
       "    }\n",
       "\n",
       "    .dataframe thead th {\n",
       "        text-align: right;\n",
       "    }\n",
       "</style>\n",
       "<table border=\"1\" class=\"dataframe\">\n",
       "  <thead>\n",
       "    <tr style=\"text-align: right;\">\n",
       "      <th></th>\n",
       "      <th>uid</th>\n",
       "      <th>docid</th>\n",
       "      <th>jud</th>\n",
       "      <th>cjud</th>\n",
       "    </tr>\n",
       "  </thead>\n",
       "  <tbody>\n",
       "    <tr>\n",
       "      <th>count</th>\n",
       "      <td>250000.000000</td>\n",
       "      <td>250000.000000</td>\n",
       "      <td>250000.000000</td>\n",
       "      <td>250000.000000</td>\n",
       "    </tr>\n",
       "    <tr>\n",
       "      <th>mean</th>\n",
       "      <td>299.325672</td>\n",
       "      <td>24999.500000</td>\n",
       "      <td>0.238120</td>\n",
       "      <td>0.119920</td>\n",
       "    </tr>\n",
       "    <tr>\n",
       "      <th>std</th>\n",
       "      <td>173.131872</td>\n",
       "      <td>14433.785594</td>\n",
       "      <td>0.425934</td>\n",
       "      <td>0.324869</td>\n",
       "    </tr>\n",
       "    <tr>\n",
       "      <th>min</th>\n",
       "      <td>0.000000</td>\n",
       "      <td>0.000000</td>\n",
       "      <td>0.000000</td>\n",
       "      <td>0.000000</td>\n",
       "    </tr>\n",
       "    <tr>\n",
       "      <th>25%</th>\n",
       "      <td>150.000000</td>\n",
       "      <td>12499.750000</td>\n",
       "      <td>0.000000</td>\n",
       "      <td>0.000000</td>\n",
       "    </tr>\n",
       "    <tr>\n",
       "      <th>50%</th>\n",
       "      <td>299.000000</td>\n",
       "      <td>24999.500000</td>\n",
       "      <td>0.000000</td>\n",
       "      <td>0.000000</td>\n",
       "    </tr>\n",
       "    <tr>\n",
       "      <th>75%</th>\n",
       "      <td>449.000000</td>\n",
       "      <td>37499.250000</td>\n",
       "      <td>0.000000</td>\n",
       "      <td>0.000000</td>\n",
       "    </tr>\n",
       "    <tr>\n",
       "      <th>max</th>\n",
       "      <td>599.000000</td>\n",
       "      <td>49999.000000</td>\n",
       "      <td>1.000000</td>\n",
       "      <td>1.000000</td>\n",
       "    </tr>\n",
       "  </tbody>\n",
       "</table>\n",
       "</div>"
      ],
      "text/plain": [
       "                 uid          docid            jud           cjud\n",
       "count  250000.000000  250000.000000  250000.000000  250000.000000\n",
       "mean      299.325672   24999.500000       0.238120       0.119920\n",
       "std       173.131872   14433.785594       0.425934       0.324869\n",
       "min         0.000000       0.000000       0.000000       0.000000\n",
       "25%       150.000000   12499.750000       0.000000       0.000000\n",
       "50%       299.000000   24999.500000       0.000000       0.000000\n",
       "75%       449.000000   37499.250000       0.000000       0.000000\n",
       "max       599.000000   49999.000000       1.000000       1.000000"
      ]
     },
     "execution_count": 12,
     "metadata": {},
     "output_type": "execute_result"
    }
   ],
   "source": [
    "df.describe()"
   ]
  },
  {
   "cell_type": "markdown",
   "metadata": {},
   "source": [
    "Вроде бы все хорошо. Из последней таблички уже видно, что варианты ответов распределены неравномерно, правильный ответ 1 - встречается всего в 12% вопросов. Также видно, что ассесоры ставят 1 значительно чаще."
   ]
  },
  {
   "cell_type": "markdown",
   "metadata": {},
   "source": [
    "\n"
   ]
  },
  {
   "cell_type": "markdown",
   "metadata": {},
   "source": [
    "\n"
   ]
  },
  {
   "cell_type": "markdown",
   "metadata": {},
   "source": [
    "\n"
   ]
  },
  {
   "cell_type": "markdown",
   "metadata": {},
   "source": [
    "## Гипотеза 1.\n",
    "Первая мысль, которая приходит в голову - посмотреть, насколько часто ошибаются ассесоры и какой средний процент ошибок среди них - какое значение ошибки будет для нормального ассесора?\n"
   ]
  },
  {
   "cell_type": "code",
   "execution_count": 14,
   "metadata": {},
   "outputs": [],
   "source": [
    "df['valid'] = (df.jud == df.cjud)\n",
    "df = df.set_index('login')"
   ]
  },
  {
   "cell_type": "code",
   "execution_count": 16,
   "metadata": {},
   "outputs": [
    {
     "data": {
      "text/plain": [
       "True     339\n",
       "False     45\n",
       "Name: valid, dtype: int64"
      ]
     },
     "execution_count": 16,
     "metadata": {},
     "output_type": "execute_result"
    }
   ],
   "source": [
    "df.loc['assessor158']['valid'].value_counts()"
   ]
  },
  {
   "cell_type": "code",
   "execution_count": 23,
   "metadata": {
    "scrolled": true
   },
   "outputs": [
    {
     "data": {
      "text/plain": [
       "login\n",
       "assessor0      0.162095\n",
       "assessor1      0.199029\n",
       "assessor10     0.207675\n",
       "assessor100    0.199041\n",
       "assessor101    0.124069\n",
       "                 ...   \n",
       "assessor95     0.091121\n",
       "assessor96     0.195122\n",
       "assessor97     0.094563\n",
       "assessor98     0.117778\n",
       "assessor99     0.112644\n",
       "Length: 600, dtype: float64"
      ]
     },
     "execution_count": 23,
     "metadata": {},
     "output_type": "execute_result"
    }
   ],
   "source": [
    "df.groupby('login').apply(\n",
    "    lambda x: (~x['valid']).sum()/x.shape[0]\n",
    ")"
   ]
  },
  {
   "cell_type": "code",
   "execution_count": 27,
   "metadata": {
    "scrolled": true
   },
   "outputs": [
    {
     "data": {
      "text/plain": [
       "count    600.000000\n",
       "mean       0.159342\n",
       "std        0.055462\n",
       "min        0.076190\n",
       "25%        0.112500\n",
       "50%        0.166667\n",
       "75%        0.191462\n",
       "max        0.574209\n",
       "dtype: float64"
      ]
     },
     "execution_count": 27,
     "metadata": {},
     "output_type": "execute_result"
    }
   ],
   "source": [
    "Out[23].describe()"
   ]
  },
  {
   "cell_type": "markdown",
   "metadata": {},
   "source": [
    "\n",
    "Видно, что ассесоры часто ошибаются - средний ассесор делает 15% ошибок. Давайте на всякий случай очистим датасет от часто ошибающихся ассесоров и оставим тех, кто показывает хороший результат."
   ]
  },
  {
   "cell_type": "code",
   "execution_count": 29,
   "metadata": {
    "scrolled": false
   },
   "outputs": [
    {
     "data": {
      "text/plain": [
       "count    454.000000\n",
       "mean       0.139870\n",
       "std        0.036061\n",
       "min        0.076190\n",
       "25%        0.104781\n",
       "50%        0.145031\n",
       "75%        0.174186\n",
       "max        0.191874\n",
       "dtype: float64"
      ]
     },
     "execution_count": 29,
     "metadata": {},
     "output_type": "execute_result"
    }
   ],
   "source": [
    "Out[23][Out[23]<0.192].describe()"
   ]
  },
  {
   "cell_type": "markdown",
   "metadata": {},
   "source": [
    "Стало не сильно лучше - 14%. Зависит ли результат от того, что ассесор ставит в ответ? "
   ]
  },
  {
   "cell_type": "code",
   "execution_count": 31,
   "metadata": {},
   "outputs": [
    {
     "data": {
      "text/html": [
       "<div>\n",
       "<style scoped>\n",
       "    .dataframe tbody tr th:only-of-type {\n",
       "        vertical-align: middle;\n",
       "    }\n",
       "\n",
       "    .dataframe tbody tr th {\n",
       "        vertical-align: top;\n",
       "    }\n",
       "\n",
       "    .dataframe thead th {\n",
       "        text-align: right;\n",
       "    }\n",
       "</style>\n",
       "<table border=\"1\" class=\"dataframe\">\n",
       "  <thead>\n",
       "    <tr style=\"text-align: right;\">\n",
       "      <th>jud</th>\n",
       "      <th>0</th>\n",
       "      <th>1</th>\n",
       "    </tr>\n",
       "    <tr>\n",
       "      <th>login</th>\n",
       "      <th></th>\n",
       "      <th></th>\n",
       "    </tr>\n",
       "  </thead>\n",
       "  <tbody>\n",
       "    <tr>\n",
       "      <th>assessor0</th>\n",
       "      <td>0.020478</td>\n",
       "      <td>0.546296</td>\n",
       "    </tr>\n",
       "    <tr>\n",
       "      <th>assessor1</th>\n",
       "      <td>0.013652</td>\n",
       "      <td>0.655462</td>\n",
       "    </tr>\n",
       "    <tr>\n",
       "      <th>assessor10</th>\n",
       "      <td>0.038922</td>\n",
       "      <td>0.724771</td>\n",
       "    </tr>\n",
       "    <tr>\n",
       "      <th>assessor100</th>\n",
       "      <td>0.047771</td>\n",
       "      <td>0.660194</td>\n",
       "    </tr>\n",
       "    <tr>\n",
       "      <th>assessor101</th>\n",
       "      <td>0.027356</td>\n",
       "      <td>0.554054</td>\n",
       "    </tr>\n",
       "    <tr>\n",
       "      <th>...</th>\n",
       "      <td>...</td>\n",
       "      <td>...</td>\n",
       "    </tr>\n",
       "    <tr>\n",
       "      <th>assessor95</th>\n",
       "      <td>0.027855</td>\n",
       "      <td>0.420290</td>\n",
       "    </tr>\n",
       "    <tr>\n",
       "      <th>assessor96</th>\n",
       "      <td>0.055394</td>\n",
       "      <td>0.638889</td>\n",
       "    </tr>\n",
       "    <tr>\n",
       "      <th>assessor97</th>\n",
       "      <td>0.019830</td>\n",
       "      <td>0.471429</td>\n",
       "    </tr>\n",
       "    <tr>\n",
       "      <th>assessor98</th>\n",
       "      <td>0.022222</td>\n",
       "      <td>0.500000</td>\n",
       "    </tr>\n",
       "    <tr>\n",
       "      <th>assessor99</th>\n",
       "      <td>0.029155</td>\n",
       "      <td>0.423913</td>\n",
       "    </tr>\n",
       "  </tbody>\n",
       "</table>\n",
       "<p>600 rows × 2 columns</p>\n",
       "</div>"
      ],
      "text/plain": [
       "jud                 0         1\n",
       "login                          \n",
       "assessor0    0.020478  0.546296\n",
       "assessor1    0.013652  0.655462\n",
       "assessor10   0.038922  0.724771\n",
       "assessor100  0.047771  0.660194\n",
       "assessor101  0.027356  0.554054\n",
       "...               ...       ...\n",
       "assessor95   0.027855  0.420290\n",
       "assessor96   0.055394  0.638889\n",
       "assessor97   0.019830  0.471429\n",
       "assessor98   0.022222  0.500000\n",
       "assessor99   0.029155  0.423913\n",
       "\n",
       "[600 rows x 2 columns]"
      ]
     },
     "execution_count": 31,
     "metadata": {},
     "output_type": "execute_result"
    }
   ],
   "source": [
    "df.groupby(['login', 'jud']).apply(\n",
    "    lambda x: (~x['valid']).sum()/x.shape[0]\n",
    ").unstack()"
   ]
  },
  {
   "cell_type": "code",
   "execution_count": 32,
   "metadata": {},
   "outputs": [
    {
     "data": {
      "text/html": [
       "<div>\n",
       "<style scoped>\n",
       "    .dataframe tbody tr th:only-of-type {\n",
       "        vertical-align: middle;\n",
       "    }\n",
       "\n",
       "    .dataframe tbody tr th {\n",
       "        vertical-align: top;\n",
       "    }\n",
       "\n",
       "    .dataframe thead th {\n",
       "        text-align: right;\n",
       "    }\n",
       "</style>\n",
       "<table border=\"1\" class=\"dataframe\">\n",
       "  <thead>\n",
       "    <tr style=\"text-align: right;\">\n",
       "      <th>jud</th>\n",
       "      <th>0</th>\n",
       "      <th>1</th>\n",
       "    </tr>\n",
       "  </thead>\n",
       "  <tbody>\n",
       "    <tr>\n",
       "      <th>count</th>\n",
       "      <td>600.000000</td>\n",
       "      <td>600.000000</td>\n",
       "    </tr>\n",
       "    <tr>\n",
       "      <th>mean</th>\n",
       "      <td>0.027107</td>\n",
       "      <td>0.568509</td>\n",
       "    </tr>\n",
       "    <tr>\n",
       "      <th>std</th>\n",
       "      <td>0.015418</td>\n",
       "      <td>0.101006</td>\n",
       "    </tr>\n",
       "    <tr>\n",
       "      <th>min</th>\n",
       "      <td>0.002882</td>\n",
       "      <td>0.333333</td>\n",
       "    </tr>\n",
       "    <tr>\n",
       "      <th>25%</th>\n",
       "      <td>0.017738</td>\n",
       "      <td>0.484604</td>\n",
       "    </tr>\n",
       "    <tr>\n",
       "      <th>50%</th>\n",
       "      <td>0.024353</td>\n",
       "      <td>0.588472</td>\n",
       "    </tr>\n",
       "    <tr>\n",
       "      <th>75%</th>\n",
       "      <td>0.032117</td>\n",
       "      <td>0.638714</td>\n",
       "    </tr>\n",
       "    <tr>\n",
       "      <th>max</th>\n",
       "      <td>0.131429</td>\n",
       "      <td>0.902542</td>\n",
       "    </tr>\n",
       "  </tbody>\n",
       "</table>\n",
       "</div>"
      ],
      "text/plain": [
       "jud             0           1\n",
       "count  600.000000  600.000000\n",
       "mean     0.027107    0.568509\n",
       "std      0.015418    0.101006\n",
       "min      0.002882    0.333333\n",
       "25%      0.017738    0.484604\n",
       "50%      0.024353    0.588472\n",
       "75%      0.032117    0.638714\n",
       "max      0.131429    0.902542"
      ]
     },
     "execution_count": 32,
     "metadata": {},
     "output_type": "execute_result"
    }
   ],
   "source": [
    "Out[31].describe()"
   ]
  },
  {
   "cell_type": "markdown",
   "metadata": {},
   "source": [
    "О, это уже интереснее. Похоже, что угадать 1 значительно сложнее, чем 0. Давайте посмотрим как будет ошибаться наивная модель, которая везде ставит 0 (Вроде бы ответа 1 было не так уж и много)"
   ]
  },
  {
   "cell_type": "code",
   "execution_count": 36,
   "metadata": {
    "scrolled": true
   },
   "outputs": [
    {
     "data": {
      "text/plain": [
       "count    50000.000000\n",
       "mean         0.119920\n",
       "std          0.324871\n",
       "min          0.000000\n",
       "25%          0.000000\n",
       "50%          0.000000\n",
       "75%          0.000000\n",
       "max          1.000000\n",
       "Name: cjud, dtype: float64"
      ]
     },
     "execution_count": 36,
     "metadata": {},
     "output_type": "execute_result"
    }
   ],
   "source": [
    "df[['docid', 'cjud']].drop_duplicates()['cjud'].describe()"
   ]
  },
  {
   "cell_type": "markdown",
   "metadata": {},
   "source": [
    "Опа, правильный ответ 1 всего в 0.12 % случаях.\n",
    "Нет ли случайно двух одинаковых документов с разными ответами?"
   ]
  },
  {
   "cell_type": "code",
   "execution_count": 38,
   "metadata": {
    "scrolled": true
   },
   "outputs": [
    {
     "data": {
      "text/plain": [
       "0"
      ]
     },
     "execution_count": 38,
     "metadata": {},
     "output_type": "execute_result"
    }
   ],
   "source": [
    "df[['docid', 'cjud']].drop_duplicates()['docid'].duplicated().sum()"
   ]
  },
  {
   "cell_type": "markdown",
   "metadata": {},
   "source": [
    "Ну хорошо, а то и такое бывает. \n",
    "\n",
    "\n",
    "\n"
   ]
  },
  {
   "cell_type": "markdown",
   "metadata": {},
   "source": [
    "\n"
   ]
  },
  {
   "cell_type": "markdown",
   "metadata": {},
   "source": [
    "\n"
   ]
  },
  {
   "cell_type": "markdown",
   "metadata": {},
   "source": [
    "\n"
   ]
  },
  {
   "cell_type": "markdown",
   "metadata": {},
   "source": [
    "## Гипотеза 2\n",
    "\n",
    "Давайте сравним ассесоров с наивной моделью, которая везде ставит наиболее популярный ответ. "
   ]
  },
  {
   "cell_type": "code",
   "execution_count": 52,
   "metadata": {
    "scrolled": false
   },
   "outputs": [
    {
     "data": {
      "text/plain": [
       "(-1.001, -0.05]    285\n",
       "(0.01, 0.05]       136\n",
       "(-0.05, 0.0]       128\n",
       "(0.0, 0.01]         51\n",
       "(0.05, 1.0]          0\n",
       "dtype: int64"
      ]
     },
     "execution_count": 52,
     "metadata": {},
     "output_type": "execute_result"
    }
   ],
   "source": [
    "(0.12 - Out[23]).value_counts(bins=[-1,-0.05,0,0.01, 0.05,1])"
   ]
  },
  {
   "cell_type": "markdown",
   "metadata": {},
   "source": [
    "Как видно отсюда, всего 136 (22%)  ассеров справляются лучше, чем наивная модель. Давайте посмотрим еще, может быть некоторые из них лучше угадывают 0, а другие 1? Тогда им можно было бы поручить работу только по тем задачам, где другие ассесоры поставили 1."
   ]
  },
  {
   "cell_type": "markdown",
   "metadata": {},
   "source": [
    "Возьмем тех ассесоров, которые показывают хороший результат(По крайней мере не хуже наивной модели) и посмтрим, как они справляются с задачами с положительным ответом"
   ]
  },
  {
   "cell_type": "code",
   "execution_count": 56,
   "metadata": {},
   "outputs": [],
   "source": [
    "rule = Out[23]<0.12\n",
    "assessors = Out[23][rule].index.to_list()"
   ]
  },
  {
   "cell_type": "code",
   "execution_count": 59,
   "metadata": {},
   "outputs": [
    {
     "data": {
      "text/html": [
       "<div>\n",
       "<style scoped>\n",
       "    .dataframe tbody tr th:only-of-type {\n",
       "        vertical-align: middle;\n",
       "    }\n",
       "\n",
       "    .dataframe tbody tr th {\n",
       "        vertical-align: top;\n",
       "    }\n",
       "\n",
       "    .dataframe thead th {\n",
       "        text-align: right;\n",
       "    }\n",
       "</style>\n",
       "<table border=\"1\" class=\"dataframe\">\n",
       "  <thead>\n",
       "    <tr style=\"text-align: right;\">\n",
       "      <th>jud</th>\n",
       "      <th>0</th>\n",
       "      <th>1</th>\n",
       "    </tr>\n",
       "    <tr>\n",
       "      <th>login</th>\n",
       "      <th></th>\n",
       "      <th></th>\n",
       "    </tr>\n",
       "  </thead>\n",
       "  <tbody>\n",
       "    <tr>\n",
       "      <th>assessor545</th>\n",
       "      <td>0.026882</td>\n",
       "      <td>0.333333</td>\n",
       "    </tr>\n",
       "    <tr>\n",
       "      <th>assessor462</th>\n",
       "      <td>0.033058</td>\n",
       "      <td>0.344828</td>\n",
       "    </tr>\n",
       "    <tr>\n",
       "      <th>assessor577</th>\n",
       "      <td>0.023460</td>\n",
       "      <td>0.353659</td>\n",
       "    </tr>\n",
       "    <tr>\n",
       "      <th>assessor565</th>\n",
       "      <td>0.037249</td>\n",
       "      <td>0.356322</td>\n",
       "    </tr>\n",
       "    <tr>\n",
       "      <th>assessor487</th>\n",
       "      <td>0.015432</td>\n",
       "      <td>0.368421</td>\n",
       "    </tr>\n",
       "    <tr>\n",
       "      <th>...</th>\n",
       "      <td>...</td>\n",
       "      <td>...</td>\n",
       "    </tr>\n",
       "    <tr>\n",
       "      <th>assessor481</th>\n",
       "      <td>0.018750</td>\n",
       "      <td>0.554054</td>\n",
       "    </tr>\n",
       "    <tr>\n",
       "      <th>assessor387</th>\n",
       "      <td>0.027548</td>\n",
       "      <td>0.557143</td>\n",
       "    </tr>\n",
       "    <tr>\n",
       "      <th>assessor158</th>\n",
       "      <td>0.012862</td>\n",
       "      <td>0.561644</td>\n",
       "    </tr>\n",
       "    <tr>\n",
       "      <th>assessor256</th>\n",
       "      <td>0.017647</td>\n",
       "      <td>0.590909</td>\n",
       "    </tr>\n",
       "    <tr>\n",
       "      <th>assessor34</th>\n",
       "      <td>0.005814</td>\n",
       "      <td>0.608108</td>\n",
       "    </tr>\n",
       "  </tbody>\n",
       "</table>\n",
       "<p>187 rows × 2 columns</p>\n",
       "</div>"
      ],
      "text/plain": [
       "jud                 0         1\n",
       "login                          \n",
       "assessor545  0.026882  0.333333\n",
       "assessor462  0.033058  0.344828\n",
       "assessor577  0.023460  0.353659\n",
       "assessor565  0.037249  0.356322\n",
       "assessor487  0.015432  0.368421\n",
       "...               ...       ...\n",
       "assessor481  0.018750  0.554054\n",
       "assessor387  0.027548  0.557143\n",
       "assessor158  0.012862  0.561644\n",
       "assessor256  0.017647  0.590909\n",
       "assessor34   0.005814  0.608108\n",
       "\n",
       "[187 rows x 2 columns]"
      ]
     },
     "execution_count": 59,
     "metadata": {},
     "output_type": "execute_result"
    }
   ],
   "source": [
    "Out[31].loc[assessors].sort_values(1)"
   ]
  },
  {
   "cell_type": "code",
   "execution_count": 117,
   "metadata": {},
   "outputs": [
    {
     "data": {
      "text/html": [
       "<div>\n",
       "<style scoped>\n",
       "    .dataframe tbody tr th:only-of-type {\n",
       "        vertical-align: middle;\n",
       "    }\n",
       "\n",
       "    .dataframe tbody tr th {\n",
       "        vertical-align: top;\n",
       "    }\n",
       "\n",
       "    .dataframe thead th {\n",
       "        text-align: right;\n",
       "    }\n",
       "</style>\n",
       "<table border=\"1\" class=\"dataframe\">\n",
       "  <thead>\n",
       "    <tr style=\"text-align: right;\">\n",
       "      <th>jud</th>\n",
       "      <th>0</th>\n",
       "      <th>1</th>\n",
       "    </tr>\n",
       "  </thead>\n",
       "  <tbody>\n",
       "    <tr>\n",
       "      <th>count</th>\n",
       "      <td>187.000000</td>\n",
       "      <td>187.000000</td>\n",
       "    </tr>\n",
       "    <tr>\n",
       "      <th>mean</th>\n",
       "      <td>0.019927</td>\n",
       "      <td>0.450126</td>\n",
       "    </tr>\n",
       "    <tr>\n",
       "      <th>std</th>\n",
       "      <td>0.008131</td>\n",
       "      <td>0.046969</td>\n",
       "    </tr>\n",
       "    <tr>\n",
       "      <th>min</th>\n",
       "      <td>0.002882</td>\n",
       "      <td>0.333333</td>\n",
       "    </tr>\n",
       "    <tr>\n",
       "      <th>25%</th>\n",
       "      <td>0.014368</td>\n",
       "      <td>0.414764</td>\n",
       "    </tr>\n",
       "    <tr>\n",
       "      <th>50%</th>\n",
       "      <td>0.018919</td>\n",
       "      <td>0.449275</td>\n",
       "    </tr>\n",
       "    <tr>\n",
       "      <th>75%</th>\n",
       "      <td>0.025215</td>\n",
       "      <td>0.481705</td>\n",
       "    </tr>\n",
       "    <tr>\n",
       "      <th>max</th>\n",
       "      <td>0.046154</td>\n",
       "      <td>0.608108</td>\n",
       "    </tr>\n",
       "  </tbody>\n",
       "</table>\n",
       "</div>"
      ],
      "text/plain": [
       "jud             0           1\n",
       "count  187.000000  187.000000\n",
       "mean     0.019927    0.450126\n",
       "std      0.008131    0.046969\n",
       "min      0.002882    0.333333\n",
       "25%      0.014368    0.414764\n",
       "50%      0.018919    0.449275\n",
       "75%      0.025215    0.481705\n",
       "max      0.046154    0.608108"
      ]
     },
     "execution_count": 117,
     "metadata": {},
     "output_type": "execute_result"
    }
   ],
   "source": [
    "Out[31].loc[assessors].describe()"
   ]
  },
  {
   "cell_type": "markdown",
   "metadata": {},
   "source": [
    "Как видно, ассесоры есть разные, кто-то хорошо справляется с обоими вариантами ответов, а кто-то в сомнительных случаях ставит нолик или 1, что больше нравится) Отсюда приходится сделать вывод, что ассесоров придется оценивать по величине ошибке в обоих колонках. Посмотрим, сколько ассесоров показывают результаты в таком случае лучше среднего."
   ]
  },
  {
   "cell_type": "code",
   "execution_count": 61,
   "metadata": {},
   "outputs": [],
   "source": [
    "xx = Out[31].loc[assessors]\n",
    "rule = xx[0]<0.02\n",
    "rule &= xx[1]<0.45\n"
   ]
  },
  {
   "cell_type": "code",
   "execution_count": 114,
   "metadata": {
    "scrolled": true
   },
   "outputs": [
    {
     "data": {
      "text/plain": [
       "10"
      ]
     },
     "execution_count": 114,
     "metadata": {},
     "output_type": "execute_result"
    }
   ],
   "source": [
    "x3 = xx[rule]\n",
    "(x3[1]<0.4).sum()"
   ]
  },
  {
   "cell_type": "code",
   "execution_count": 116,
   "metadata": {},
   "outputs": [
    {
     "data": {
      "text/html": [
       "<div>\n",
       "<style scoped>\n",
       "    .dataframe tbody tr th:only-of-type {\n",
       "        vertical-align: middle;\n",
       "    }\n",
       "\n",
       "    .dataframe tbody tr th {\n",
       "        vertical-align: top;\n",
       "    }\n",
       "\n",
       "    .dataframe thead th {\n",
       "        text-align: right;\n",
       "    }\n",
       "</style>\n",
       "<table border=\"1\" class=\"dataframe\">\n",
       "  <thead>\n",
       "    <tr style=\"text-align: right;\">\n",
       "      <th></th>\n",
       "      <th>0</th>\n",
       "      <th>1</th>\n",
       "      <th>sum</th>\n",
       "    </tr>\n",
       "    <tr>\n",
       "      <th>login</th>\n",
       "      <th></th>\n",
       "      <th></th>\n",
       "      <th></th>\n",
       "    </tr>\n",
       "  </thead>\n",
       "  <tbody>\n",
       "    <tr>\n",
       "      <th>assessor296</th>\n",
       "      <td>0.016901</td>\n",
       "      <td>0.400000</td>\n",
       "      <td>0.076190</td>\n",
       "    </tr>\n",
       "    <tr>\n",
       "      <th>assessor545</th>\n",
       "      <td>0.026882</td>\n",
       "      <td>0.333333</td>\n",
       "      <td>0.076577</td>\n",
       "    </tr>\n",
       "    <tr>\n",
       "      <th>assessor184</th>\n",
       "      <td>0.009009</td>\n",
       "      <td>0.405797</td>\n",
       "      <td>0.077114</td>\n",
       "    </tr>\n",
       "    <tr>\n",
       "      <th>assessor63</th>\n",
       "      <td>0.014577</td>\n",
       "      <td>0.409091</td>\n",
       "      <td>0.078240</td>\n",
       "    </tr>\n",
       "    <tr>\n",
       "      <th>assessor191</th>\n",
       "      <td>0.012285</td>\n",
       "      <td>0.428571</td>\n",
       "      <td>0.078512</td>\n",
       "    </tr>\n",
       "  </tbody>\n",
       "</table>\n",
       "</div>"
      ],
      "text/plain": [
       "                    0         1       sum\n",
       "login                                    \n",
       "assessor296  0.016901  0.400000  0.076190\n",
       "assessor545  0.026882  0.333333  0.076577\n",
       "assessor184  0.009009  0.405797  0.077114\n",
       "assessor63   0.014577  0.409091  0.078240\n",
       "assessor191  0.012285  0.428571  0.078512"
      ]
     },
     "execution_count": 116,
     "metadata": {},
     "output_type": "execute_result"
    }
   ],
   "source": [
    "xx.join(Out[23].rename('sum')).sort_values('sum').head()"
   ]
  },
  {
   "cell_type": "code",
   "execution_count": 76,
   "metadata": {},
   "outputs": [
    {
     "data": {
      "text/html": [
       "<div>\n",
       "<style scoped>\n",
       "    .dataframe tbody tr th:only-of-type {\n",
       "        vertical-align: middle;\n",
       "    }\n",
       "\n",
       "    .dataframe tbody tr th {\n",
       "        vertical-align: top;\n",
       "    }\n",
       "\n",
       "    .dataframe thead th {\n",
       "        text-align: right;\n",
       "    }\n",
       "</style>\n",
       "<table border=\"1\" class=\"dataframe\">\n",
       "  <thead>\n",
       "    <tr style=\"text-align: right;\">\n",
       "      <th></th>\n",
       "      <th>0</th>\n",
       "      <th>1</th>\n",
       "      <th>sum</th>\n",
       "    </tr>\n",
       "    <tr>\n",
       "      <th>login</th>\n",
       "      <th></th>\n",
       "      <th></th>\n",
       "      <th></th>\n",
       "    </tr>\n",
       "  </thead>\n",
       "  <tbody>\n",
       "    <tr>\n",
       "      <th>assessor487</th>\n",
       "      <td>0.015432</td>\n",
       "      <td>0.368421</td>\n",
       "      <td>0.095465</td>\n",
       "    </tr>\n",
       "    <tr>\n",
       "      <th>assessor151</th>\n",
       "      <td>0.011730</td>\n",
       "      <td>0.379747</td>\n",
       "      <td>0.080952</td>\n",
       "    </tr>\n",
       "    <tr>\n",
       "      <th>assessor82</th>\n",
       "      <td>0.006309</td>\n",
       "      <td>0.383721</td>\n",
       "      <td>0.086849</td>\n",
       "    </tr>\n",
       "    <tr>\n",
       "      <th>assessor240</th>\n",
       "      <td>0.017341</td>\n",
       "      <td>0.385417</td>\n",
       "      <td>0.097285</td>\n",
       "    </tr>\n",
       "    <tr>\n",
       "      <th>assessor591</th>\n",
       "      <td>0.012384</td>\n",
       "      <td>0.387097</td>\n",
       "      <td>0.096154</td>\n",
       "    </tr>\n",
       "  </tbody>\n",
       "</table>\n",
       "</div>"
      ],
      "text/plain": [
       "                    0         1       sum\n",
       "login                                    \n",
       "assessor487  0.015432  0.368421  0.095465\n",
       "assessor151  0.011730  0.379747  0.080952\n",
       "assessor82   0.006309  0.383721  0.086849\n",
       "assessor240  0.017341  0.385417  0.097285\n",
       "assessor591  0.012384  0.387097  0.096154"
      ]
     },
     "execution_count": 76,
     "metadata": {},
     "output_type": "execute_result"
    }
   ],
   "source": [
    "xx[rule].join(Out[23].rename('sum')).sort_values(1).head()"
   ]
  },
  {
   "cell_type": "code",
   "execution_count": 75,
   "metadata": {
    "scrolled": true
   },
   "outputs": [
    {
     "data": {
      "text/html": [
       "<div>\n",
       "<style scoped>\n",
       "    .dataframe tbody tr th:only-of-type {\n",
       "        vertical-align: middle;\n",
       "    }\n",
       "\n",
       "    .dataframe tbody tr th {\n",
       "        vertical-align: top;\n",
       "    }\n",
       "\n",
       "    .dataframe thead th {\n",
       "        text-align: right;\n",
       "    }\n",
       "</style>\n",
       "<table border=\"1\" class=\"dataframe\">\n",
       "  <thead>\n",
       "    <tr style=\"text-align: right;\">\n",
       "      <th></th>\n",
       "      <th>0</th>\n",
       "      <th>1</th>\n",
       "      <th>sum</th>\n",
       "    </tr>\n",
       "    <tr>\n",
       "      <th>login</th>\n",
       "      <th></th>\n",
       "      <th></th>\n",
       "      <th></th>\n",
       "    </tr>\n",
       "  </thead>\n",
       "  <tbody>\n",
       "    <tr>\n",
       "      <th>assessor296</th>\n",
       "      <td>0.016901</td>\n",
       "      <td>0.400000</td>\n",
       "      <td>0.076190</td>\n",
       "    </tr>\n",
       "    <tr>\n",
       "      <th>assessor184</th>\n",
       "      <td>0.009009</td>\n",
       "      <td>0.405797</td>\n",
       "      <td>0.077114</td>\n",
       "    </tr>\n",
       "    <tr>\n",
       "      <th>assessor63</th>\n",
       "      <td>0.014577</td>\n",
       "      <td>0.409091</td>\n",
       "      <td>0.078240</td>\n",
       "    </tr>\n",
       "    <tr>\n",
       "      <th>assessor191</th>\n",
       "      <td>0.012285</td>\n",
       "      <td>0.428571</td>\n",
       "      <td>0.078512</td>\n",
       "    </tr>\n",
       "    <tr>\n",
       "      <th>assessor450</th>\n",
       "      <td>0.003096</td>\n",
       "      <td>0.407895</td>\n",
       "      <td>0.080201</td>\n",
       "    </tr>\n",
       "  </tbody>\n",
       "</table>\n",
       "</div>"
      ],
      "text/plain": [
       "                    0         1       sum\n",
       "login                                    \n",
       "assessor296  0.016901  0.400000  0.076190\n",
       "assessor184  0.009009  0.405797  0.077114\n",
       "assessor63   0.014577  0.409091  0.078240\n",
       "assessor191  0.012285  0.428571  0.078512\n",
       "assessor450  0.003096  0.407895  0.080201"
      ]
     },
     "execution_count": 75,
     "metadata": {},
     "output_type": "execute_result"
    }
   ],
   "source": [
    "xx[rule].join(Out[23].rename('sum')).sort_values('sum').head()"
   ]
  },
  {
   "cell_type": "markdown",
   "metadata": {},
   "source": [
    "Как видим, самый лучший решатель положительных(1) вопросов не является лучшим в среднем. А что будет, если мы возьмем его и проверим ответами из лучшего по нулевым вопросам?\n"
   ]
  },
  {
   "cell_type": "code",
   "execution_count": 77,
   "metadata": {},
   "outputs": [
    {
     "data": {
      "text/html": [
       "<div>\n",
       "<style scoped>\n",
       "    .dataframe tbody tr th:only-of-type {\n",
       "        vertical-align: middle;\n",
       "    }\n",
       "\n",
       "    .dataframe tbody tr th {\n",
       "        vertical-align: top;\n",
       "    }\n",
       "\n",
       "    .dataframe thead th {\n",
       "        text-align: right;\n",
       "    }\n",
       "</style>\n",
       "<table border=\"1\" class=\"dataframe\">\n",
       "  <thead>\n",
       "    <tr style=\"text-align: right;\">\n",
       "      <th></th>\n",
       "      <th>0</th>\n",
       "      <th>1</th>\n",
       "      <th>sum</th>\n",
       "    </tr>\n",
       "    <tr>\n",
       "      <th>login</th>\n",
       "      <th></th>\n",
       "      <th></th>\n",
       "      <th></th>\n",
       "    </tr>\n",
       "  </thead>\n",
       "  <tbody>\n",
       "    <tr>\n",
       "      <th>assessor458</th>\n",
       "      <td>0.002882</td>\n",
       "      <td>0.434343</td>\n",
       "      <td>0.098655</td>\n",
       "    </tr>\n",
       "    <tr>\n",
       "      <th>assessor450</th>\n",
       "      <td>0.003096</td>\n",
       "      <td>0.407895</td>\n",
       "      <td>0.080201</td>\n",
       "    </tr>\n",
       "    <tr>\n",
       "      <th>assessor259</th>\n",
       "      <td>0.003135</td>\n",
       "      <td>0.391304</td>\n",
       "      <td>0.090024</td>\n",
       "    </tr>\n",
       "    <tr>\n",
       "      <th>assessor162</th>\n",
       "      <td>0.005865</td>\n",
       "      <td>0.426966</td>\n",
       "      <td>0.093023</td>\n",
       "    </tr>\n",
       "    <tr>\n",
       "      <th>assessor38</th>\n",
       "      <td>0.005900</td>\n",
       "      <td>0.430556</td>\n",
       "      <td>0.080292</td>\n",
       "    </tr>\n",
       "  </tbody>\n",
       "</table>\n",
       "</div>"
      ],
      "text/plain": [
       "                    0         1       sum\n",
       "login                                    \n",
       "assessor458  0.002882  0.434343  0.098655\n",
       "assessor450  0.003096  0.407895  0.080201\n",
       "assessor259  0.003135  0.391304  0.090024\n",
       "assessor162  0.005865  0.426966  0.093023\n",
       "assessor38   0.005900  0.430556  0.080292"
      ]
     },
     "execution_count": 77,
     "metadata": {},
     "output_type": "execute_result"
    }
   ],
   "source": [
    "xx[rule].join(Out[23].rename('sum')).sort_values(0).head()"
   ]
  },
  {
   "cell_type": "code",
   "execution_count": 111,
   "metadata": {},
   "outputs": [
    {
     "data": {
      "text/html": [
       "<div>\n",
       "<style scoped>\n",
       "    .dataframe tbody tr th:only-of-type {\n",
       "        vertical-align: middle;\n",
       "    }\n",
       "\n",
       "    .dataframe tbody tr th {\n",
       "        vertical-align: top;\n",
       "    }\n",
       "\n",
       "    .dataframe thead th {\n",
       "        text-align: right;\n",
       "    }\n",
       "</style>\n",
       "<table border=\"1\" class=\"dataframe\">\n",
       "  <thead>\n",
       "    <tr style=\"text-align: right;\">\n",
       "      <th></th>\n",
       "      <th>1</th>\n",
       "      <th>2</th>\n",
       "      <th>3</th>\n",
       "    </tr>\n",
       "    <tr>\n",
       "      <th>docid</th>\n",
       "      <th></th>\n",
       "      <th></th>\n",
       "      <th></th>\n",
       "    </tr>\n",
       "  </thead>\n",
       "  <tbody>\n",
       "    <tr>\n",
       "      <th>40772</th>\n",
       "      <td>1.0</td>\n",
       "      <td>1.0</td>\n",
       "      <td>1.0</td>\n",
       "    </tr>\n",
       "    <tr>\n",
       "      <th>43631</th>\n",
       "      <td>1.0</td>\n",
       "      <td>1.0</td>\n",
       "      <td>1.0</td>\n",
       "    </tr>\n",
       "  </tbody>\n",
       "</table>\n",
       "</div>"
      ],
      "text/plain": [
       "         1    2    3\n",
       "docid               \n",
       "40772  1.0  1.0  1.0\n",
       "43631  1.0  1.0  1.0"
      ]
     },
     "execution_count": 111,
     "metadata": {},
     "output_type": "execute_result"
    }
   ],
   "source": [
    "jud0 = df.loc['assessor259'].set_index('docid')['jud']\n",
    "jud1 = df.loc['assessor487'].set_index('docid')\n",
    "cjud = jud1['cjud']\n",
    "pd.concat([jud0, jud1['jud'], cjud], axis=1, keys=[1,2,3]).dropna()"
   ]
  },
  {
   "cell_type": "markdown",
   "metadata": {},
   "source": [
    "А ничего, потому что документы между ассесорами слабо пересекаются. Каждый документ дублируется всего 5 раз."
   ]
  },
  {
   "cell_type": "code",
   "execution_count": 112,
   "metadata": {},
   "outputs": [
    {
     "data": {
      "text/plain": [
       "count    50000.0\n",
       "mean         5.0\n",
       "std          0.0\n",
       "min          5.0\n",
       "25%          5.0\n",
       "50%          5.0\n",
       "75%          5.0\n",
       "max          5.0\n",
       "Name: docid, dtype: float64"
      ]
     },
     "execution_count": 112,
     "metadata": {},
     "output_type": "execute_result"
    }
   ],
   "source": [
    "df['docid'].value_counts().sort_values().describe()"
   ]
  },
  {
   "cell_type": "markdown",
   "metadata": {},
   "source": [
    "\n"
   ]
  },
  {
   "cell_type": "markdown",
   "metadata": {},
   "source": [
    "\n"
   ]
  },
  {
   "cell_type": "markdown",
   "metadata": {},
   "source": [
    "\n"
   ]
  },
  {
   "cell_type": "markdown",
   "metadata": {},
   "source": [
    "## Гипотеза 3"
   ]
  },
  {
   "cell_type": "markdown",
   "metadata": {},
   "source": [
    "А давайте выкинем все самые сложные и самые простые документы и посмотрим, как изменится картина в таком случае?"
   ]
  }
 ],
 "metadata": {
  "kernelspec": {
   "display_name": "Python 3",
   "language": "python",
   "name": "python3"
  },
  "language_info": {
   "codemirror_mode": {
    "name": "ipython",
    "version": 3
   },
   "file_extension": ".py",
   "mimetype": "text/x-python",
   "name": "python",
   "nbconvert_exporter": "python",
   "pygments_lexer": "ipython3",
   "version": "3.8.6"
  }
 },
 "nbformat": 4,
 "nbformat_minor": 4
}
