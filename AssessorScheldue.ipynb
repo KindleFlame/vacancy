{
 "cells": [
  {
   "cell_type": "markdown",
   "metadata": {},
   "source": [
    "## Описание\n",
    "\n",
    "Данный ноутбук является откликом на [вакансию яндекса](https://yandex.ru/jobs/vacancies/proj_man/data_techman/), Задание 1\n",
    "\n",
    "\n",
    "\n",
    "### Условия задания 1\n",
    "Формат файла: login tid Microtasks assigned_ts tclosed_ts.\n",
    "\n",
    "Пояснение к формату: login — логин асессора; tid — id оцениваемого задания (task id); Microtasks – количество микрозаданий в одном задании; assigned_ts — время резервирования системой задания для асессора; closed_ts — точное время завершения работы над заданием; разделитель — табуляция \\t.\n",
    "\n",
    "Задание может состоять из одного или несколько микрозаданий. Время резервирования задания (assigned_ts) указывает на тот момент, когда система назначила определенного асессора исполнителем этого задания. Этот момент может совпадать с временем начала работы асессора над заданием, а может и не совпадать (асессор может отойти выпить чаю, а потом приступить к заданию, асессор может выполнять предыдущее задание, в то время как за ним зарезервированы новые).\n",
    "\n",
    "Предположим, что асессор за 30 секунд своего рабочего времени получает N рублей.\n",
    "\n",
    "Какую оплату вы считаете справедливой для выполнения асессором одного микрозадания из этого файла? Опишите подробно все этапы вашего решения."
   ]
  },
  {
   "cell_type": "markdown",
   "metadata": {},
   "source": [
    "## Итоги\n",
    "\n",
    "### Выводы\n",
    "\n",
    "1. При подсчете по рабочим периодам выполнение одной микрозадачи колеблется между 25-60 секундами. Причем большинство задач выполнено за 40 секунд.\n",
    "2. Судя по всему ассесоры выполняют кучу разных дел в течении рабочего дня. Поэтому тяжело рассчитать таким образом продуктивность ассесора. Примерно половина ассесоров выполняет менее 100 задач в день. Причем есть те, которые за месяц почти ничего не делают. Так или иначе, если оставить только тех, кто работает максимально продуктивно - данные не сильно изменятся. (см. slowly_users в разделе очистки)\n",
    "3. Распределение по среднедневной продуктивности среди ассесоров является по-каким-то причинам экспоненциальным, хотя должно было бы быть нормальным. По крайней-мере быть на него похожим и иметь отчетливый максимум. Как будто ассесоры стремяться выполнить минимум задач)) Либо сложность работы растет экспоненциально с числом выполненных задач. **Возможно, что ассесоры очень быстро устают?**\n",
    "4. Количество задач, которые выполняются более 200 секунд, сравнимо с быстрыми задачами. Это может намекать на то, что в датасете имеются задачи разной стомости.\n",
    "\n",
    "### Предлагаемое решение\n",
    "1. Если требуется установить справедливую плату за задачу. Мы хотим оплачивать людям затрачиваемое ими время вне зависимости от уровня их способностей. \n",
    "\n",
    "   В качестве ориентира для оплаты я бы использовал величину 60 секунд за микрозадачу. За это время половина ассесоров спокойно могла бы выполнять микрозадачу. \n",
    "\n",
    "2. Требуется установить минимально возможную оплату за микрозадачу. Мы полагаем, что новички должны получать меньше тех, у кого получается лучше.\n",
    "\n",
    "   В таком случае рекомендуется 30 секунд. С такой скоростью может работать только 25% ассесоров, что можно обьяснить их приспособленностью к задачам. \n",
    "\n",
    "### Комментарии\n",
    "\n",
    "+ Если смотреть распределение по продуктивности среди ассесоров, то  по-каким-то причинам оно является экспоненциальным, хотя должно было бы  быть нормальным. По крайней-мере быть на него похожим и иметь отчетливый максимум. Как будто ассесоры стремяться выполнить минимум задач)) Либо  сложность работы растет экспоненциально с числом выполненных задач. **Возможно, что ассесоры очень быстро устают?**\n",
    "+ Количество задач, которые выполняются более 200 секунд, сравнимо с  быстрыми задачами (менее минуты). Это может намекать на то, что в датасете имеются  задачи разной стомости.\n",
    "\n",
    "   \n",
    "\n",
    "### Предположения и допущения\n",
    "1. Вообще говоря, я предполагал, что микрозадачи выполняются быстро и примерно за одно и тоже время. Т.е. нет задач, выполнение которых заняло бы целый рабочий день.\n",
    "2. Похоже, что ассесоры часто занимаются чем-то еще, кроме решения микрозаданий, поэтому нельзя посчитать среднее число задач за рабочий день.\n",
    "\n",
    "### Выдвигаемые гипотезы\n",
    "\n",
    "1. Вообще говоря неправильно оплачивать только микрозадания - ведь их выбор и получение тоже требует времени. Т.е. можно для одного пользователя посчитать сколько он делает микрозаданий за рабочий день/ неделю/месяц/период и сделать усреднение. Т.е. посчитать периоды - когда взято задание и когда закончено. \n",
    "    1. Посчитать среднюю стомость микрозадания по минимальным периодам\n",
    "    2. Посчитать количество заданий выполненных за день и поделить на 8 часов рабочего времени ассесора)\n",
    "    \n",
    "2. Использовать только пересекающиеся задания. Вычислить среднее/минимальное по ассесорам и исходя из этого оценивать.\n",
    "\n",
    "### Очистка датасета\n",
    "1. Дублирующие строки\n",
    "    - у одной ячейки неправильно указано время открытия/закрытия\n",
    "2. Придется выкинуть те задания которые начинают и заканчивают вырезанный период - скорее всего срез делался по времени открытия/закрытия. А это значит, что это задание могло выполняться одновременно с другими. (По датасету видно, что они часто пересекаются)\n",
    "3. Придется выкинуть странные задания длиной более рабочего дня или оставленные незакрытыми на ночь. Конечно, это повлияет на значение, однако таких случаев немного - менее 1%, так что и влияние на конечный результат будет менее 1%. А из-за большой продолжительности их периода это сдвигает средние значения.\n"
   ]
  },
  {
   "cell_type": "markdown",
   "metadata": {},
   "source": [
    "## Решение, код и комментарии"
   ]
  },
  {
   "cell_type": "markdown",
   "metadata": {},
   "source": [
    "### Введение"
   ]
  },
  {
   "cell_type": "markdown",
   "metadata": {},
   "source": [
    "В начале сделаем не большой обзор и пару тестов, нужна ли очистка датасета(нужна). Придется удалить дубликаты, есть ошибки (время начала больше времени окончания)."
   ]
  },
  {
   "cell_type": "code",
   "execution_count": 29,
   "metadata": {},
   "outputs": [
    {
     "data": {
      "text/html": [
       "<div>\n",
       "<style scoped>\n",
       "    .dataframe tbody tr th:only-of-type {\n",
       "        vertical-align: middle;\n",
       "    }\n",
       "\n",
       "    .dataframe tbody tr th {\n",
       "        vertical-align: top;\n",
       "    }\n",
       "\n",
       "    .dataframe thead th {\n",
       "        text-align: right;\n",
       "    }\n",
       "</style>\n",
       "<table border=\"1\" class=\"dataframe\">\n",
       "  <thead>\n",
       "    <tr style=\"text-align: right;\">\n",
       "      <th></th>\n",
       "      <th>login</th>\n",
       "      <th>tid</th>\n",
       "      <th>start</th>\n",
       "      <th>end</th>\n",
       "      <th>tasks</th>\n",
       "    </tr>\n",
       "  </thead>\n",
       "  <tbody>\n",
       "    <tr>\n",
       "      <th>0</th>\n",
       "      <td>login0</td>\n",
       "      <td>190563850</td>\n",
       "      <td>2017-04-20 12:09:39</td>\n",
       "      <td>2017-04-20 13:13:01</td>\n",
       "      <td>4</td>\n",
       "    </tr>\n",
       "    <tr>\n",
       "      <th>1</th>\n",
       "      <td>login0</td>\n",
       "      <td>190561754</td>\n",
       "      <td>2017-04-20 12:10:30</td>\n",
       "      <td>2017-04-20 12:28:29</td>\n",
       "      <td>1</td>\n",
       "    </tr>\n",
       "    <tr>\n",
       "      <th>2</th>\n",
       "      <td>login0</td>\n",
       "      <td>190565906</td>\n",
       "      <td>2017-04-20 12:21:31</td>\n",
       "      <td>2017-04-20 13:30:10</td>\n",
       "      <td>4</td>\n",
       "    </tr>\n",
       "    <tr>\n",
       "      <th>3</th>\n",
       "      <td>login0</td>\n",
       "      <td>190560246</td>\n",
       "      <td>2017-04-20 12:28:30</td>\n",
       "      <td>2017-04-20 13:13:56</td>\n",
       "      <td>1</td>\n",
       "    </tr>\n",
       "    <tr>\n",
       "      <th>4</th>\n",
       "      <td>login0</td>\n",
       "      <td>190562168</td>\n",
       "      <td>2017-04-20 12:28:42</td>\n",
       "      <td>2017-04-20 13:14:50</td>\n",
       "      <td>2</td>\n",
       "    </tr>\n",
       "  </tbody>\n",
       "</table>\n",
       "</div>"
      ],
      "text/plain": [
       "    login        tid               start                 end  tasks\n",
       "0  login0  190563850 2017-04-20 12:09:39 2017-04-20 13:13:01      4\n",
       "1  login0  190561754 2017-04-20 12:10:30 2017-04-20 12:28:29      1\n",
       "2  login0  190565906 2017-04-20 12:21:31 2017-04-20 13:30:10      4\n",
       "3  login0  190560246 2017-04-20 12:28:30 2017-04-20 13:13:56      1\n",
       "4  login0  190562168 2017-04-20 12:28:42 2017-04-20 13:14:50      2"
      ]
     },
     "metadata": {},
     "output_type": "display_data"
    },
    {
     "data": {
      "text/html": [
       "<div>\n",
       "<style scoped>\n",
       "    .dataframe tbody tr th:only-of-type {\n",
       "        vertical-align: middle;\n",
       "    }\n",
       "\n",
       "    .dataframe tbody tr th {\n",
       "        vertical-align: top;\n",
       "    }\n",
       "\n",
       "    .dataframe thead th {\n",
       "        text-align: right;\n",
       "    }\n",
       "</style>\n",
       "<table border=\"1\" class=\"dataframe\">\n",
       "  <thead>\n",
       "    <tr style=\"text-align: right;\">\n",
       "      <th></th>\n",
       "      <th>tid</th>\n",
       "      <th>tasks</th>\n",
       "    </tr>\n",
       "  </thead>\n",
       "  <tbody>\n",
       "    <tr>\n",
       "      <th>count</th>\n",
       "      <td>7.018270e+05</td>\n",
       "      <td>701827.00000</td>\n",
       "    </tr>\n",
       "    <tr>\n",
       "      <th>mean</th>\n",
       "      <td>1.884911e+08</td>\n",
       "      <td>3.25439</td>\n",
       "    </tr>\n",
       "    <tr>\n",
       "      <th>std</th>\n",
       "      <td>1.391113e+07</td>\n",
       "      <td>3.65397</td>\n",
       "    </tr>\n",
       "    <tr>\n",
       "      <th>min</th>\n",
       "      <td>1.139586e+08</td>\n",
       "      <td>1.00000</td>\n",
       "    </tr>\n",
       "    <tr>\n",
       "      <th>25%</th>\n",
       "      <td>1.906846e+08</td>\n",
       "      <td>1.00000</td>\n",
       "    </tr>\n",
       "    <tr>\n",
       "      <th>50%</th>\n",
       "      <td>1.935373e+08</td>\n",
       "      <td>2.00000</td>\n",
       "    </tr>\n",
       "    <tr>\n",
       "      <th>75%</th>\n",
       "      <td>1.963667e+08</td>\n",
       "      <td>4.00000</td>\n",
       "    </tr>\n",
       "    <tr>\n",
       "      <th>max</th>\n",
       "      <td>1.985758e+08</td>\n",
       "      <td>50.00000</td>\n",
       "    </tr>\n",
       "  </tbody>\n",
       "</table>\n",
       "</div>"
      ],
      "text/plain": [
       "                tid         tasks\n",
       "count  7.018270e+05  701827.00000\n",
       "mean   1.884911e+08       3.25439\n",
       "std    1.391113e+07       3.65397\n",
       "min    1.139586e+08       1.00000\n",
       "25%    1.906846e+08       1.00000\n",
       "50%    1.935373e+08       2.00000\n",
       "75%    1.963667e+08       4.00000\n",
       "max    1.985758e+08      50.00000"
      ]
     },
     "metadata": {},
     "output_type": "display_data"
    },
    {
     "name": "stdout",
     "output_type": "stream",
     "text": [
      "<class 'pandas.core.frame.DataFrame'>\n",
      "RangeIndex: 701827 entries, 0 to 701826\n",
      "Data columns (total 5 columns):\n",
      " #   Column  Non-Null Count   Dtype         \n",
      "---  ------  --------------   -----         \n",
      " 0   login   701827 non-null  object        \n",
      " 1   tid     701827 non-null  int64         \n",
      " 2   start   701827 non-null  datetime64[ns]\n",
      " 3   end     701827 non-null  datetime64[ns]\n",
      " 4   tasks   701827 non-null  int64         \n",
      "dtypes: datetime64[ns](2), int64(2), object(1)\n",
      "memory usage: 26.8+ MB\n"
     ]
    },
    {
     "data": {
      "text/plain": [
       "None"
      ]
     },
     "metadata": {},
     "output_type": "display_data"
    }
   ],
   "source": [
    "import pandas as pd\n",
    "import seaborn as sns\n",
    "import sourcefunc as sf\n",
    "\n",
    "from IPython.display import display as show\n",
    "\n",
    "df = pd.read_csv('sources/data_task4_old.txt', sep='\\t')\n",
    "df['start'] = pd.to_datetime(df.assigned_ts)\n",
    "df['end'] = pd.to_datetime(df.closed_ts)\n",
    "df['tid'] = df['tid'].astype(int)\n",
    "df['tasks'] = df['Microtasks'].astype(int)\n",
    "\n",
    "del df['assigned_ts'], df['closed_ts'], df['Microtasks']\n",
    "\n",
    "for i in 'head describe info'.split():\n",
    "    show(getattr(df,i)())\n"
   ]
  },
  {
   "cell_type": "code",
   "execution_count": 30,
   "metadata": {},
   "outputs": [
    {
     "data": {
      "text/html": [
       "<div>\n",
       "<style scoped>\n",
       "    .dataframe tbody tr th:only-of-type {\n",
       "        vertical-align: middle;\n",
       "    }\n",
       "\n",
       "    .dataframe tbody tr th {\n",
       "        vertical-align: top;\n",
       "    }\n",
       "\n",
       "    .dataframe thead th {\n",
       "        text-align: right;\n",
       "    }\n",
       "</style>\n",
       "<table border=\"1\" class=\"dataframe\">\n",
       "  <thead>\n",
       "    <tr style=\"text-align: right;\">\n",
       "      <th></th>\n",
       "      <th>login</th>\n",
       "      <th>tid</th>\n",
       "      <th>start</th>\n",
       "      <th>end</th>\n",
       "      <th>tasks</th>\n",
       "    </tr>\n",
       "  </thead>\n",
       "  <tbody>\n",
       "    <tr>\n",
       "      <th>596808</th>\n",
       "      <td>login652</td>\n",
       "      <td>113958665</td>\n",
       "      <td>2017-05-27 18:24:49</td>\n",
       "      <td>2017-05-27 18:29:58</td>\n",
       "      <td>5</td>\n",
       "    </tr>\n",
       "    <tr>\n",
       "      <th>600880</th>\n",
       "      <td>login652</td>\n",
       "      <td>113958665</td>\n",
       "      <td>2017-05-27 18:24:49</td>\n",
       "      <td>2017-05-27 18:29:58</td>\n",
       "      <td>5</td>\n",
       "    </tr>\n",
       "    <tr>\n",
       "      <th>600804</th>\n",
       "      <td>login652</td>\n",
       "      <td>113958669</td>\n",
       "      <td>2017-05-27 13:54:30</td>\n",
       "      <td>2017-05-27 13:58:58</td>\n",
       "      <td>5</td>\n",
       "    </tr>\n",
       "    <tr>\n",
       "      <th>596732</th>\n",
       "      <td>login652</td>\n",
       "      <td>113958669</td>\n",
       "      <td>2017-05-27 13:54:30</td>\n",
       "      <td>2017-05-27 13:58:58</td>\n",
       "      <td>5</td>\n",
       "    </tr>\n",
       "    <tr>\n",
       "      <th>596920</th>\n",
       "      <td>login652</td>\n",
       "      <td>113958679</td>\n",
       "      <td>2017-05-28 13:32:36</td>\n",
       "      <td>2017-05-28 13:33:51</td>\n",
       "      <td>5</td>\n",
       "    </tr>\n",
       "  </tbody>\n",
       "</table>\n",
       "</div>"
      ],
      "text/plain": [
       "           login        tid               start                 end  tasks\n",
       "596808  login652  113958665 2017-05-27 18:24:49 2017-05-27 18:29:58      5\n",
       "600880  login652  113958665 2017-05-27 18:24:49 2017-05-27 18:29:58      5\n",
       "600804  login652  113958669 2017-05-27 13:54:30 2017-05-27 13:58:58      5\n",
       "596732  login652  113958669 2017-05-27 13:54:30 2017-05-27 13:58:58      5\n",
       "596920  login652  113958679 2017-05-28 13:32:36 2017-05-28 13:33:51      5"
      ]
     },
     "execution_count": 30,
     "metadata": {},
     "output_type": "execute_result"
    }
   ],
   "source": [
    "df[df.duplicated(keep=False)].sort_values('tid').head()"
   ]
  },
  {
   "cell_type": "code",
   "execution_count": 31,
   "metadata": {},
   "outputs": [
    {
     "data": {
      "text/plain": [
       "1"
      ]
     },
     "execution_count": 31,
     "metadata": {},
     "output_type": "execute_result"
    }
   ],
   "source": [
    "(df['end'] < df['start']).sum()"
   ]
  },
  {
   "cell_type": "code",
   "execution_count": 32,
   "metadata": {},
   "outputs": [
    {
     "data": {
      "text/plain": [
       "count     701827\n",
       "mean        1929\n",
       "std        12446\n",
       "min         -729\n",
       "25%           67\n",
       "50%          157\n",
       "75%          435\n",
       "max      2043178\n",
       "Name: duration, dtype: int64"
      ]
     },
     "execution_count": 32,
     "metadata": {},
     "output_type": "execute_result"
    }
   ],
   "source": [
    "df['duration'] = (df['end'] - df['start']).dt.total_seconds().astype(int)\n",
    "df['duration'].describe().astype(int)"
   ]
  },
  {
   "cell_type": "markdown",
   "metadata": {},
   "source": [
    "Некоторые пользователи вообще не закрывают некоторые задачи, придется предварительно очистить датасет от них"
   ]
  },
  {
   "cell_type": "markdown",
   "metadata": {},
   "source": [
    "# _________CLEAR_______________________"
   ]
  },
  {
   "cell_type": "code",
   "execution_count": 33,
   "metadata": {},
   "outputs": [],
   "source": [
    "df = df.drop_duplicates()\n",
    "df = df[df['end'] > df['start']]"
   ]
  },
  {
   "cell_type": "code",
   "execution_count": 34,
   "metadata": {},
   "outputs": [],
   "source": [
    "# Можно выкинуть пользователей, \n",
    "# которые выполяли свою работу слишком медленно, \n",
    "# однако это почти ничего не меняет\n",
    "slowly_users = set(\n",
    "    open('sources/slowly_users.txt').read().split()\n",
    ")\n",
    "r = ~df['login'].isin(slowly_users)\n",
    "df = df[r]"
   ]
  },
  {
   "cell_type": "code",
   "execution_count": 35,
   "metadata": {},
   "outputs": [],
   "source": [
    "# ___addtional_clear___________________\n",
    "# a) выкинуть все задачи, которые перенеслись с одного рабочего дня на другой\n",
    "\n",
    "rulea = df['end'].dt.day == df['start'].dt.day\n",
    "# sf.write('sources/cleared_a_df.pkl', df[rule])"
   ]
  },
  {
   "cell_type": "code",
   "execution_count": 36,
   "metadata": {},
   "outputs": [],
   "source": [
    "# но что делать с ассесорами, которые работают по ночам?\n",
    "# b) - можно выкинуть все задачи, которые длиннее 10 часов\n",
    "\n",
    "ruleb = (df['end'] - df['start']) < pd.Timedelta('10h')\n",
    "\n",
    "# >>> ruleb.sum()\n",
    "# 12556"
   ]
  },
  {
   "cell_type": "code",
   "execution_count": 37,
   "metadata": {},
   "outputs": [],
   "source": [
    "df = df[rulea & ruleb]"
   ]
  },
  {
   "cell_type": "code",
   "execution_count": 38,
   "metadata": {},
   "outputs": [],
   "source": [
    "# _________CALCULATIONS________________\n",
    "\n",
    "\n",
    "def calc(df_:pd.DataFrame) -> pd.DataFrame: \n",
    "    \"\"\"\n",
    "    Предварительно аггеригирует пересекающиеся периоды в один, затем\n",
    "    вычисляет стоимость каждого периода, \n",
    "    по ф. количество выполненных задач / длина периода в сек.\n",
    "    \n",
    "    Возвращает DataFrame\n",
    "    \"\"\"\n",
    "    xx = df_.groupby([\"login\"])[[\"start\", \"end\", \"tasks\", 'tid']].apply(sf.task_cost)\n",
    "    xx['dt'] = (xx['end'] - xx['start']).dt.total_seconds().astype(int)\n",
    "    xx['cost'] = xx['dt']/xx['tasks']\n",
    "    return xx"
   ]
  },
  {
   "cell_type": "code",
   "execution_count": 39,
   "metadata": {},
   "outputs": [
    {
     "data": {
      "text/html": [
       "<div>\n",
       "<style scoped>\n",
       "    .dataframe tbody tr th:only-of-type {\n",
       "        vertical-align: middle;\n",
       "    }\n",
       "\n",
       "    .dataframe tbody tr th {\n",
       "        vertical-align: top;\n",
       "    }\n",
       "\n",
       "    .dataframe thead th {\n",
       "        text-align: right;\n",
       "    }\n",
       "</style>\n",
       "<table border=\"1\" class=\"dataframe\">\n",
       "  <thead>\n",
       "    <tr style=\"text-align: right;\">\n",
       "      <th></th>\n",
       "      <th></th>\n",
       "      <th>start</th>\n",
       "      <th>end</th>\n",
       "      <th>tasks</th>\n",
       "      <th>completed_tasks</th>\n",
       "      <th>dt</th>\n",
       "      <th>cost</th>\n",
       "    </tr>\n",
       "    <tr>\n",
       "      <th>login</th>\n",
       "      <th></th>\n",
       "      <th></th>\n",
       "      <th></th>\n",
       "      <th></th>\n",
       "      <th></th>\n",
       "      <th></th>\n",
       "      <th></th>\n",
       "    </tr>\n",
       "  </thead>\n",
       "  <tbody>\n",
       "    <tr>\n",
       "      <th rowspan=\"5\" valign=\"top\">login0</th>\n",
       "      <th>0</th>\n",
       "      <td>2017-04-20 12:09:39</td>\n",
       "      <td>2017-04-20 13:30:10</td>\n",
       "      <td>14</td>\n",
       "      <td>((190561754, 1), (190563850, 4), (190560246, 1...</td>\n",
       "      <td>4831</td>\n",
       "      <td>345.071429</td>\n",
       "    </tr>\n",
       "    <tr>\n",
       "      <th>1</th>\n",
       "      <td>2017-04-20 13:47:43</td>\n",
       "      <td>2017-04-20 14:22:22</td>\n",
       "      <td>2</td>\n",
       "      <td>((190565094, 1), (190560460, 1))</td>\n",
       "      <td>2079</td>\n",
       "      <td>1039.500000</td>\n",
       "    </tr>\n",
       "    <tr>\n",
       "      <th>2</th>\n",
       "      <td>2017-04-20 15:22:24</td>\n",
       "      <td>2017-04-20 17:23:42</td>\n",
       "      <td>9</td>\n",
       "      <td>((190662496, 5), (190660420, 4))</td>\n",
       "      <td>7278</td>\n",
       "      <td>808.666667</td>\n",
       "    </tr>\n",
       "    <tr>\n",
       "      <th>3</th>\n",
       "      <td>2017-04-20 19:02:21</td>\n",
       "      <td>2017-04-20 19:35:41</td>\n",
       "      <td>8</td>\n",
       "      <td>((189300086, 4), (190564816, 1), (190565432, 1...</td>\n",
       "      <td>2000</td>\n",
       "      <td>250.000000</td>\n",
       "    </tr>\n",
       "    <tr>\n",
       "      <th>4</th>\n",
       "      <td>2017-04-21 06:20:08</td>\n",
       "      <td>2017-04-21 08:19:49</td>\n",
       "      <td>77</td>\n",
       "      <td>((190550986, 2), (190554170, 2), (190552970, 1...</td>\n",
       "      <td>7181</td>\n",
       "      <td>93.259740</td>\n",
       "    </tr>\n",
       "  </tbody>\n",
       "</table>\n",
       "</div>"
      ],
      "text/plain": [
       "                       start                 end  tasks  \\\n",
       "login                                                     \n",
       "login0 0 2017-04-20 12:09:39 2017-04-20 13:30:10     14   \n",
       "       1 2017-04-20 13:47:43 2017-04-20 14:22:22      2   \n",
       "       2 2017-04-20 15:22:24 2017-04-20 17:23:42      9   \n",
       "       3 2017-04-20 19:02:21 2017-04-20 19:35:41      8   \n",
       "       4 2017-04-21 06:20:08 2017-04-21 08:19:49     77   \n",
       "\n",
       "                                            completed_tasks    dt         cost  \n",
       "login                                                                           \n",
       "login0 0  ((190561754, 1), (190563850, 4), (190560246, 1...  4831   345.071429  \n",
       "       1                   ((190565094, 1), (190560460, 1))  2079  1039.500000  \n",
       "       2                   ((190662496, 5), (190660420, 4))  7278   808.666667  \n",
       "       3  ((189300086, 4), (190564816, 1), (190565432, 1...  2000   250.000000  \n",
       "       4  ((190550986, 2), (190554170, 2), (190552970, 1...  7181    93.259740  "
      ]
     },
     "execution_count": 39,
     "metadata": {},
     "output_type": "execute_result"
    }
   ],
   "source": [
    "xx = calc(df)\n",
    "xx.head()"
   ]
  },
  {
   "cell_type": "code",
   "execution_count": 40,
   "metadata": {
    "scrolled": true
   },
   "outputs": [
    {
     "data": {
      "text/html": [
       "<div>\n",
       "<style scoped>\n",
       "    .dataframe tbody tr th:only-of-type {\n",
       "        vertical-align: middle;\n",
       "    }\n",
       "\n",
       "    .dataframe tbody tr th {\n",
       "        vertical-align: top;\n",
       "    }\n",
       "\n",
       "    .dataframe thead th {\n",
       "        text-align: right;\n",
       "    }\n",
       "</style>\n",
       "<table border=\"1\" class=\"dataframe\">\n",
       "  <thead>\n",
       "    <tr style=\"text-align: right;\">\n",
       "      <th></th>\n",
       "      <th>tasks</th>\n",
       "      <th>dt</th>\n",
       "      <th>cost</th>\n",
       "    </tr>\n",
       "  </thead>\n",
       "  <tbody>\n",
       "    <tr>\n",
       "      <th>count</th>\n",
       "      <td>41222.000000</td>\n",
       "      <td>41222.000000</td>\n",
       "      <td>41222.000000</td>\n",
       "    </tr>\n",
       "    <tr>\n",
       "      <th>mean</th>\n",
       "      <td>49.189874</td>\n",
       "      <td>3809.302994</td>\n",
       "      <td>213.073010</td>\n",
       "    </tr>\n",
       "    <tr>\n",
       "      <th>std</th>\n",
       "      <td>86.772290</td>\n",
       "      <td>6193.783144</td>\n",
       "      <td>710.020054</td>\n",
       "    </tr>\n",
       "    <tr>\n",
       "      <th>min</th>\n",
       "      <td>1.000000</td>\n",
       "      <td>8.000000</td>\n",
       "      <td>1.934023</td>\n",
       "    </tr>\n",
       "    <tr>\n",
       "      <th>25%</th>\n",
       "      <td>8.000000</td>\n",
       "      <td>740.250000</td>\n",
       "      <td>34.830975</td>\n",
       "    </tr>\n",
       "    <tr>\n",
       "      <th>50%</th>\n",
       "      <td>21.000000</td>\n",
       "      <td>1922.500000</td>\n",
       "      <td>68.111111</td>\n",
       "    </tr>\n",
       "    <tr>\n",
       "      <th>75%</th>\n",
       "      <td>55.000000</td>\n",
       "      <td>4059.000000</td>\n",
       "      <td>153.666667</td>\n",
       "    </tr>\n",
       "    <tr>\n",
       "      <th>max</th>\n",
       "      <td>3577.000000</td>\n",
       "      <td>86309.000000</td>\n",
       "      <td>31436.000000</td>\n",
       "    </tr>\n",
       "  </tbody>\n",
       "</table>\n",
       "</div>"
      ],
      "text/plain": [
       "              tasks            dt          cost\n",
       "count  41222.000000  41222.000000  41222.000000\n",
       "mean      49.189874   3809.302994    213.073010\n",
       "std       86.772290   6193.783144    710.020054\n",
       "min        1.000000      8.000000      1.934023\n",
       "25%        8.000000    740.250000     34.830975\n",
       "50%       21.000000   1922.500000     68.111111\n",
       "75%       55.000000   4059.000000    153.666667\n",
       "max     3577.000000  86309.000000  31436.000000"
      ]
     },
     "execution_count": 40,
     "metadata": {},
     "output_type": "execute_result"
    }
   ],
   "source": [
    "xx.describe()"
   ]
  },
  {
   "cell_type": "markdown",
   "metadata": {},
   "source": [
    "# Гипотеза 1.\n",
    "Посмотрим, как задачи распределены по времени. Сначала посмотрим среднюю стоимость задачи в секундах по периодам."
   ]
  },
  {
   "cell_type": "markdown",
   "metadata": {},
   "source": [
    "### По рабочим периодам"
   ]
  },
  {
   "cell_type": "code",
   "execution_count": 41,
   "metadata": {},
   "outputs": [],
   "source": [
    "x = xx.copy()\n",
    "x['cost'] = xx['cost'].map(lambda xf: round(xf, 0))\n",
    "x = x.groupby('cost')['tasks'].sum()\n",
    "x = x.to_frame().reset_index()"
   ]
  },
  {
   "cell_type": "code",
   "execution_count": 42,
   "metadata": {},
   "outputs": [
    {
     "data": {
      "image/png": "[encoded data removed]",
      "text/plain": [
       "<Figure size 432x288 with 1 Axes>"
      ]
     },
     "metadata": {
      "needs_background": "light"
     },
     "output_type": "display_data"
    }
   ],
   "source": [
    "r = x['cost'] < 200\n",
    "# r &= x['tasks'] > 10000\n",
    "\n",
    "x[r].plot('tasks', 'cost','scatter');\n"
   ]
  },
  {
   "cell_type": "code",
   "execution_count": 43,
   "metadata": {},
   "outputs": [
    {
     "data": {
      "text/html": [
       "<div>\n",
       "<style scoped>\n",
       "    .dataframe tbody tr th:only-of-type {\n",
       "        vertical-align: middle;\n",
       "    }\n",
       "\n",
       "    .dataframe tbody tr th {\n",
       "        vertical-align: top;\n",
       "    }\n",
       "\n",
       "    .dataframe thead th {\n",
       "        text-align: right;\n",
       "    }\n",
       "</style>\n",
       "<table border=\"1\" class=\"dataframe\">\n",
       "  <thead>\n",
       "    <tr style=\"text-align: right;\">\n",
       "      <th></th>\n",
       "      <th>cost</th>\n",
       "      <th>tasks</th>\n",
       "    </tr>\n",
       "  </thead>\n",
       "  <tbody>\n",
       "    <tr>\n",
       "      <th>22</th>\n",
       "      <td>24.0</td>\n",
       "      <td>34352</td>\n",
       "    </tr>\n",
       "    <tr>\n",
       "      <th>23</th>\n",
       "      <td>25.0</td>\n",
       "      <td>35271</td>\n",
       "    </tr>\n",
       "    <tr>\n",
       "      <th>27</th>\n",
       "      <td>29.0</td>\n",
       "      <td>35830</td>\n",
       "    </tr>\n",
       "    <tr>\n",
       "      <th>24</th>\n",
       "      <td>26.0</td>\n",
       "      <td>37293</td>\n",
       "    </tr>\n",
       "    <tr>\n",
       "      <th>26</th>\n",
       "      <td>28.0</td>\n",
       "      <td>38224</td>\n",
       "    </tr>\n",
       "  </tbody>\n",
       "</table>\n",
       "</div>"
      ],
      "text/plain": [
       "    cost  tasks\n",
       "22  24.0  34352\n",
       "23  25.0  35271\n",
       "27  29.0  35830\n",
       "24  26.0  37293\n",
       "26  28.0  38224"
      ]
     },
     "execution_count": 43,
     "metadata": {},
     "output_type": "execute_result"
    }
   ],
   "source": [
    "x.sort_values('tasks').tail()"
   ]
  },
  {
   "cell_type": "code",
   "execution_count": 44,
   "metadata": {},
   "outputs": [
    {
     "data": {
      "text/html": [
       "<div>\n",
       "<style scoped>\n",
       "    .dataframe tbody tr th:only-of-type {\n",
       "        vertical-align: middle;\n",
       "    }\n",
       "\n",
       "    .dataframe tbody tr th {\n",
       "        vertical-align: top;\n",
       "    }\n",
       "\n",
       "    .dataframe thead th {\n",
       "        text-align: right;\n",
       "    }\n",
       "</style>\n",
       "<table border=\"1\" class=\"dataframe\">\n",
       "  <thead>\n",
       "    <tr style=\"text-align: right;\">\n",
       "      <th></th>\n",
       "      <th>tasks</th>\n",
       "      <th>dt</th>\n",
       "      <th>cost</th>\n",
       "    </tr>\n",
       "  </thead>\n",
       "  <tbody>\n",
       "    <tr>\n",
       "      <th>count</th>\n",
       "      <td>26067.000000</td>\n",
       "      <td>26067.000000</td>\n",
       "      <td>26067.000000</td>\n",
       "    </tr>\n",
       "    <tr>\n",
       "      <th>mean</th>\n",
       "      <td>63.508612</td>\n",
       "      <td>2517.359151</td>\n",
       "      <td>45.798258</td>\n",
       "    </tr>\n",
       "    <tr>\n",
       "      <th>std</th>\n",
       "      <td>102.017922</td>\n",
       "      <td>3852.640235</td>\n",
       "      <td>24.032346</td>\n",
       "    </tr>\n",
       "    <tr>\n",
       "      <th>min</th>\n",
       "      <td>1.000000</td>\n",
       "      <td>8.000000</td>\n",
       "      <td>1.934023</td>\n",
       "    </tr>\n",
       "    <tr>\n",
       "      <th>25%</th>\n",
       "      <td>12.000000</td>\n",
       "      <td>468.000000</td>\n",
       "      <td>26.400000</td>\n",
       "    </tr>\n",
       "    <tr>\n",
       "      <th>50%</th>\n",
       "      <td>32.000000</td>\n",
       "      <td>1413.000000</td>\n",
       "      <td>41.522727</td>\n",
       "    </tr>\n",
       "    <tr>\n",
       "      <th>75%</th>\n",
       "      <td>75.000000</td>\n",
       "      <td>3018.500000</td>\n",
       "      <td>63.328431</td>\n",
       "    </tr>\n",
       "    <tr>\n",
       "      <th>max</th>\n",
       "      <td>3577.000000</td>\n",
       "      <td>84111.000000</td>\n",
       "      <td>99.974359</td>\n",
       "    </tr>\n",
       "  </tbody>\n",
       "</table>\n",
       "</div>"
      ],
      "text/plain": [
       "              tasks            dt          cost\n",
       "count  26067.000000  26067.000000  26067.000000\n",
       "mean      63.508612   2517.359151     45.798258\n",
       "std      102.017922   3852.640235     24.032346\n",
       "min        1.000000      8.000000      1.934023\n",
       "25%       12.000000    468.000000     26.400000\n",
       "50%       32.000000   1413.000000     41.522727\n",
       "75%       75.000000   3018.500000     63.328431\n",
       "max     3577.000000  84111.000000     99.974359"
      ]
     },
     "execution_count": 44,
     "metadata": {},
     "output_type": "execute_result"
    },
    {
     "data": {
      "image/png": "[encoded data removed]",
      "text/plain": [
       "<Figure size 432x288 with 1 Axes>"
      ]
     },
     "metadata": {
      "needs_background": "light"
     },
     "output_type": "display_data"
    }
   ],
   "source": [
    "# выкинем все задачи, где стоимость миркозадания более часа\n",
    "r = xx['cost'] < 100\n",
    "\n",
    "sns.boxplot(x=xx[r]['cost']);\n",
    "xx[r].describe()"
   ]
  },
  {
   "cell_type": "markdown",
   "metadata": {},
   "source": [
    "В принципе здесь мы получаем первый результат. Выполнение одной микрозадачи колеблется между 25-60 секундами. Причем большинство задач выполнено за 40 секунд. "
   ]
  },
  {
   "cell_type": "markdown",
   "metadata": {},
   "source": [
    "### Комментарии"
   ]
  },
  {
   "cell_type": "code",
   "execution_count": 45,
   "metadata": {
    "scrolled": true
   },
   "outputs": [
    {
     "data": {
      "text/plain": [
       "<AxesSubplot:xlabel='tasks', ylabel='cost'>"
      ]
     },
     "execution_count": 45,
     "metadata": {},
     "output_type": "execute_result"
    },
    {
     "data": {
      "image/png": "[encoded data removed]",
      "text/plain": [
       "<Figure size 432x288 with 1 Axes>"
      ]
     },
     "metadata": {
      "needs_background": "light"
     },
     "output_type": "display_data"
    }
   ],
   "source": [
    "x = xx.copy()\n",
    "x['cost'] = x['cost'].map(lambda xf: round(\n",
    "    xf,\n",
    "    1 - len(\n",
    "            str(\n",
    "                round(xf)\n",
    "            )\n",
    "    )\n",
    "            ))\n",
    "x = x.groupby('cost')['tasks'].sum()\n",
    "x = x.to_frame().reset_index()\n",
    "xd = x.describe([0.1 * i for i in range(10)])\n",
    "r = ~x['cost'].isna()\n",
    "# r &= x['cost']<1000\n",
    "# r &= x['cost']<500\n",
    "r &= x['tasks']>10000\n",
    "# r &= x['tasks']<150000\n",
    "x = x[r]\n",
    "x.plot('tasks', 'cost','scatter')"
   ]
  },
  {
   "cell_type": "markdown",
   "metadata": {},
   "source": [
    "Видно, что количество задач, которые выполняются более 200 секунд, сравнимо с быстрыми задачами. Это может намекать на то, что в датасете имеются задачи разной стомости."
   ]
  },
  {
   "cell_type": "markdown",
   "metadata": {},
   "source": [
    "### По рабочим дням\n",
    "Судя по всему ассесоры выполняют кучу разных дел в течении рабочего дня. Поэтому тяжело рассчитать таким образом продуктивность ассесора. Примерно половина ассесоров выполняет менее 100 задач в день. Причем есть те, которые за месяц почти ничего не делают. Так или иначе, если оставить только тех, кто работает максимально продуктивно - данные не сильно изменятся. (см. slowly_users в разделе очистки)"
   ]
  },
  {
   "cell_type": "code",
   "execution_count": null,
   "metadata": {},
   "outputs": [],
   "source": []
  },
  {
   "cell_type": "code",
   "execution_count": 46,
   "metadata": {},
   "outputs": [],
   "source": [
    "yy = xx.copy()\n",
    "yy['day'] = yy['end'].dt.strftime('%Y-%m-%d')\n",
    "\n",
    "task_by_day = yy.groupby(['login', 'day'])['tasks'].sum()\n"
   ]
  },
  {
   "cell_type": "code",
   "execution_count": 47,
   "metadata": {},
   "outputs": [
    {
     "name": "stderr",
     "output_type": "stream",
     "text": [
      "/opt/conda/lib/python3.8/site-packages/seaborn/_decorators.py:36: FutureWarning: Pass the following variable as a keyword arg: x. From version 0.12, the only valid positional argument will be `data`, and passing other arguments without an explicit keyword will result in an error or misinterpretation.\n",
      "  warnings.warn(\n"
     ]
    },
    {
     "data": {
      "text/plain": [
       "<AxesSubplot:xlabel='tasks'>"
      ]
     },
     "execution_count": 47,
     "metadata": {},
     "output_type": "execute_result"
    },
    {
     "data": {
      "image/png": "[encoded data removed]",
      "text/plain": [
       "<Figure size 432x288 with 1 Axes>"
      ]
     },
     "metadata": {
      "needs_background": "light"
     },
     "output_type": "display_data"
    }
   ],
   "source": [
    "sns.boxplot(task_by_day.droplevel(-1))"
   ]
  },
  {
   "cell_type": "markdown",
   "metadata": {},
   "source": [
    "Похоже, что ассесоры часто занимаются чем-то еще, кроме решения микрозаданий."
   ]
  },
  {
   "cell_type": "code",
   "execution_count": 48,
   "metadata": {
    "scrolled": true
   },
   "outputs": [
    {
     "data": {
      "text/plain": [
       "login     day       \n",
       "login354  2017-05-18       1\n",
       "login578  2017-05-21       1\n",
       "login8    2017-05-24       1\n",
       "login275  2017-04-21       1\n",
       "login718  2017-05-04       1\n",
       "                        ... \n",
       "login139  2017-04-26    2386\n",
       "          2017-04-29    2428\n",
       "login685  2017-04-26    2652\n",
       "login139  2017-04-25    3301\n",
       "          2017-04-27    3610\n",
       "Name: tasks, Length: 11790, dtype: int64"
      ]
     },
     "execution_count": 48,
     "metadata": {},
     "output_type": "execute_result"
    }
   ],
   "source": [
    "task_by_day.sort_values()"
   ]
  },
  {
   "cell_type": "code",
   "execution_count": 49,
   "metadata": {
    "scrolled": true
   },
   "outputs": [
    {
     "data": {
      "text/plain": [
       "count    11790.000000\n",
       "mean       171.985157\n",
       "std        232.288228\n",
       "min          1.000000\n",
       "25%         31.000000\n",
       "50%         91.000000\n",
       "75%        215.000000\n",
       "max       3610.000000\n",
       "Name: tasks, dtype: float64"
      ]
     },
     "execution_count": 49,
     "metadata": {},
     "output_type": "execute_result"
    }
   ],
   "source": [
    "task_by_day.describe()"
   ]
  },
  {
   "cell_type": "code",
   "execution_count": 50,
   "metadata": {},
   "outputs": [
    {
     "data": {
      "text/plain": [
       "(0, 5]           711\n",
       "(5, 10]          564\n",
       "(10, 20]         919\n",
       "(20, 35]        1054\n",
       "(35, 50]         853\n",
       "(50, 100]       2162\n",
       "(100, 250]      3039\n",
       "(250, 500]      1565\n",
       "(500, 1000]      784\n",
       "(1000, 5000]     139\n",
       "Name: tasks, dtype: int64"
      ]
     },
     "execution_count": 50,
     "metadata": {},
     "output_type": "execute_result"
    }
   ],
   "source": [
    "pd.cut(task_by_day, [0,5,10,20,35,50,100,250,500,1000, 5000]).value_counts().sort_index()"
   ]
  },
  {
   "cell_type": "code",
   "execution_count": 51,
   "metadata": {},
   "outputs": [
    {
     "data": {
      "text/plain": [
       "count      531.000000\n",
       "mean      3818.653484\n",
       "std       4971.500701\n",
       "min        301.000000\n",
       "25%       1113.000000\n",
       "50%       2246.000000\n",
       "75%       4305.500000\n",
       "max      51272.000000\n",
       "Name: tasks, dtype: float64"
      ]
     },
     "execution_count": 51,
     "metadata": {},
     "output_type": "execute_result"
    }
   ],
   "source": [
    "# Количество задач выполненное ассесором за месяц\n",
    "whole_tasks = yy.groupby(['login'])['tasks'].sum()\n",
    "whole_tasks.describe()"
   ]
  },
  {
   "cell_type": "code",
   "execution_count": 52,
   "metadata": {},
   "outputs": [],
   "source": [
    "# Ассесоры, которые продуктивные\n",
    "logins = whole_tasks[whole_tasks>400].index"
   ]
  },
  {
   "cell_type": "code",
   "execution_count": 53,
   "metadata": {},
   "outputs": [
    {
     "data": {
      "text/plain": [
       "count     531.000000\n",
       "mean      159.648539\n",
       "std       142.330213\n",
       "min        35.100000\n",
       "25%        71.485714\n",
       "50%       109.400000\n",
       "75%       203.718750\n",
       "max      1424.222222\n",
       "Name: tasks, dtype: float64"
      ]
     },
     "execution_count": 53,
     "metadata": {},
     "output_type": "execute_result"
    }
   ],
   "source": [
    "# средняя продуктивность ассесоров в день\n",
    "task_by_day.groupby('login').mean().describe()"
   ]
  },
  {
   "cell_type": "code",
   "execution_count": 54,
   "metadata": {},
   "outputs": [
    {
     "name": "stdout",
     "output_type": "stream",
     "text": [
      "236\n"
     ]
    }
   ],
   "source": [
    "su = task_by_day.groupby('login').mean()\n",
    "slowly_users.update(su[su<35].index, whole_tasks[whole_tasks<300].index)\n",
    "print(len(slowly_users))\n",
    "# sf.write('sources/slowly_users.pkl', slowly_users)\n",
    "# open('sources/slowly_users.txt', 'w').write('\\n'.join(slowly_users))"
   ]
  },
  {
   "cell_type": "code",
   "execution_count": 55,
   "metadata": {
    "scrolled": true
   },
   "outputs": [
    {
     "data": {
      "image/png": "[encoded data removed]",
      "text/plain": [
       "<Figure size 432x288 with 1 Axes>"
      ]
     },
     "metadata": {
      "needs_background": "light"
     },
     "output_type": "display_data"
    }
   ],
   "source": [
    "sns.histplot(su);"
   ]
  },
  {
   "cell_type": "markdown",
   "metadata": {},
   "source": [
    "Если смотреть распределение по продуктивности среди ассесоров, то по-каким-то причинам оно является экспоненциальным, хотя должно было бы быть нормальным. По крайней-мере быть на него похожим и иметь отчетливый максимум. Как будто ассесоры стремяться выполнить минимум задач)) Либо сложность работы растет экспоненциально с числом выполненных задач. **Возможно, что ассесоры очень быстро устают?**"
   ]
  }
 ],
 "metadata": {
  "kernelspec": {
   "display_name": "Python 3",
   "language": "python",
   "name": "python3"
  },
  "language_info": {
   "codemirror_mode": {
    "name": "ipython",
    "version": 3
   },
   "file_extension": ".py",
   "mimetype": "text/x-python",
   "name": "python",
   "nbconvert_exporter": "python",
   "pygments_lexer": "ipython3",
   "version": "3.8.6"
  }
 },
 "nbformat": 4,
 "nbformat_minor": 4
}
